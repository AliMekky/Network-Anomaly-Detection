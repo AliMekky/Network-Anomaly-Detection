{
 "cells": [
  {
   "cell_type": "markdown",
   "metadata": {
    "id": "2ErWbG005Q9w"
   },
   "source": [
    "# Data Reading and Cleaning"
   ]
  },
  {
   "cell_type": "markdown",
   "metadata": {
    "id": "GqHyOHTj5jaV"
   },
   "source": [
    "#### importing data"
   ]
  },
  {
   "cell_type": "code",
   "execution_count": 11,
   "metadata": {
    "id": "0CDJYHmwJDXE"
   },
   "outputs": [],
   "source": [
    "import matplotlib.pyplot as plt\n",
    "import numpy as np\n",
    "import pandas as pd\n",
    "import seaborn as sns\n",
    "import cv2 as cv\n",
    "import glob\n",
    "from sklearn import metrics\n",
    "from sklearn.preprocessing import LabelEncoder,MinMaxScaler,RobustScaler\n",
    "from sklearn.metrics.pairwise import rbf_kernel\n",
    "from sklearn.preprocessing import normalize\n",
    "from sklearn.model_selection import train_test_split\n",
    "from sklearn.metrics.cluster import contingency_matrix\n",
    "from sklearn.cluster import KMeans\n",
    "import math\n",
    "from sklearn.metrics.pairwise import euclidean_distances\n",
    "from scipy.spatial import distance_matrix\n",
    "from scipy.optimize import linear_sum_assignment"
   ]
  },
  {
   "cell_type": "code",
   "execution_count": 12,
   "metadata": {
    "colab": {
     "base_uri": "https://localhost:8080/"
    },
    "id": "tjonvQXgJOLH",
    "outputId": "fdc3cf70-88d8-44cd-d068-c018cd652642"
   },
   "outputs": [
    {
     "name": "stdout",
     "output_type": "stream",
     "text": [
      "Mounted at /content/drive\n"
     ]
    }
   ],
   "source": [
    "from google.colab import drive\n",
    "drive.mount('/content/drive', force_remount=True)"
   ]
  },
  {
   "cell_type": "code",
   "execution_count": 13,
   "metadata": {
    "id": "e9ZXEo5eJQn1"
   },
   "outputs": [],
   "source": [
    "columns=[\n",
    "    \"duration\"\n",
    "    , \"protocol_type\",\n",
    "    \"service\", \"flag\",\n",
    "    \"src_bytes\",\n",
    "    \"dst_bytes\", \"land\", \"wrong_fragment\", \"urgent\", \n",
    "    \"hot\", \"num_failed_logins\", \"logged_in\",\n",
    "    \"num_compromised\", \"root_shell\",\n",
    "    \"su_attempted\", \"num_root\", \n",
    "    \"num_file_creations\", \"num_shells\", \n",
    "    \"num_access_files\", \"num_outbound_cmds\",\n",
    "    \"is_host_login\", \"is_guest_login\", \"count\", \n",
    "    \"srv_count\", \"serror_rate\", \n",
    "    \"srv_serror_rate\", \"rerror_rate\",\n",
    "    \"srv_rerror_rate\", \"same_srv_rate\", \n",
    "    \"diff_srv_rate\", \"srv_diff_host_rate\",\n",
    "    \"dst_host_count\", \"dst_host_srv_count\", \n",
    "    \"dst_host_same_srv_rate\", \"dst_host_diff_srv_rate\", \n",
    "    \"dst_host_same_src_port_rate\", \n",
    "    \"dst_host_srv_diff_host_rate\",\n",
    "    \"dst_host_serror_rate\",\n",
    "    \"dst_host_srv_serror_rate\", \"dst_host_rerror_rate\", \"dst_host_srv_rerror_rate\", \"target\"]"
   ]
  },
  {
   "cell_type": "code",
   "execution_count": 14,
   "metadata": {
    "id": "vPdGxNleJlEi"
   },
   "outputs": [],
   "source": [
    "def import_data(path, columns, categorical_cols):\n",
    "    data = pd.read_csv(path,compression = \"gzip\", names = columns)\n",
    "    data = data.drop_duplicates(keep = 'first')\n",
    "    data = data[~data['service'].isin(['red_i', 'urh_i', 'icmp'])]\n",
    "    dummy_data = pd.get_dummies(data,columns=categorical_cols)\n",
    "    labels = dummy_data['target']\n",
    "    dummy_data.drop('target',axis = 1, inplace=True)\n",
    "    dummy_data.drop('num_outbound_cmds',axis = 1, inplace=True)\n",
    "    dummy_data.drop('is_host_login',axis = 1, inplace=True)\n",
    "    return [dummy_data,labels]"
   ]
  },
  {
   "cell_type": "markdown",
   "metadata": {
    "id": "F26XykLK5pBh"
   },
   "source": [
    "#### data cleaning and encoding"
   ]
  },
  {
   "cell_type": "code",
   "execution_count": 15,
   "metadata": {
    "id": "OoTdVEWVfaDJ"
   },
   "outputs": [],
   "source": [
    "# One-Hot Encoding for categorical data.\n",
    "#data, labels = import_data(\"kddcup.data_10_percent.gz\", columns, ['service', 'flag', 'protocol_type'])\n",
    "path = \"/content/drive/MyDrive/pattern/NetworkAnomaly/dataset/kddcup.data_10_percent.gz/kddcup.data_10_percent.gz\"\n",
    "path_of_whole_data = \"/content/drive/MyDrive/pattern/NetworkAnomaly/dataset/kddcup.data.gz/kddcup.data.gz\"\n",
    "path_test=\"/content/drive/MyDrive/pattern/NetworkAnomaly/dataset/corrected.gz/corrected.gz\"\n",
    "\n",
    "# importing training set of kmeans\n",
    "data, labels = import_data(path, columns, ['service', 'flag', 'protocol_type'])\n",
    "\n",
    "# importing training set of spectral clustering\n",
    "whole_data, whole_labels = import_data(path_of_whole_data, columns, ['service', 'flag', 'protocol_type'])\n",
    "\n",
    "#importing test set of kmeans\n",
    "test_set,ground_truth=import_data(path_test, columns, ['service', 'flag', 'protocol_type'])\n",
    "\n",
    "# removing rows from test set taht have targets not in the training set\n",
    "test = pd.concat([test_set, ground_truth],axis = 1)\n",
    "test = test[test['target'].isin(np.unique(labels).tolist())]\n",
    "ground_truth = test['target']\n",
    "test.drop('target', axis = 1, inplace=True)\n",
    "\n",
    "# label encoding for labels of training and testing set\n",
    "le = LabelEncoder()\n",
    "le.fit(labels)\n",
    "labels = le.transform(np.array(labels))\n",
    "ground_truth = le.transform(np.array(ground_truth))\n"
   ]
  },
  {
   "cell_type": "code",
   "execution_count": null,
   "metadata": {
    "id": "ivboaATjHVLP"
   },
   "outputs": [],
   "source": []
  },
  {
   "cell_type": "markdown",
   "metadata": {
    "id": "VDOItn_NKZYG"
   },
   "source": [
    "# Evaluation Functions"
   ]
  },
  {
   "cell_type": "markdown",
   "metadata": {
    "id": "BjsA4jdXgQMQ"
   },
   "source": [
    "#### Conditional Entropy"
   ]
  },
  {
   "cell_type": "code",
   "execution_count": 2,
   "metadata": {
    "id": "bXRoFTRQKiy5"
   },
   "outputs": [],
   "source": [
    "def conditional_entropy(contingency_matrix):\n",
    "    n=np.sum(contingency_matrix)\n",
    "    n_classes=np.sum(contingency_matrix,axis=1)\n",
    "    entropy=0\n",
    "    for i in range(contingency_matrix.shape[0]):\n",
    "        for j in range(contingency_matrix.shape[1]):\n",
    "            if contingency_matrix[i][j] != 0:\n",
    "                h = contingency_matrix[i][j]/np.sum(contingency_matrix[i])\n",
    "                entropy += (n_classes[i]/n)*(-h*math.log2(h))\n",
    "    return entropy"
   ]
  },
  {
   "cell_type": "code",
   "execution_count": 3,
   "metadata": {
    "id": "JA4conwHevo0"
   },
   "outputs": [],
   "source": [
    "# calculating TP,TN,FP,FN for precison, recall and F1-Score\n",
    "def confusion_mat(contingency_matrix):\n",
    "    x=contingency_matrix.shape[0]\n",
    "    y=contingency_matrix.shape[1]\n",
    "    TP=0\n",
    "    for i in range (x):\n",
    "         for j in range(y):\n",
    "            TP += math.comb(contingency_matrix[i][j],2)\n",
    "    FP=0\n",
    "    for i in range (x):\n",
    "        s=np.sum(contingency_matrix[i])\n",
    "        for j in range(y):\n",
    "            l=contingency_matrix[i][j]*(s-contingency_matrix[i][j])\n",
    "            FP+=l\n",
    "    FP=FP//2\n",
    "    FN=0\n",
    "    for i in range(x):\n",
    "        for j in range(y):\n",
    "            FN+=contingency_matrix[i][j]*np.sum(contingency_matrix[i+1:,j])\n",
    "    total=math.comb(np.sum(contingency_matrix),2)\n",
    "    TN=total-(FN+TP+FP)\n",
    "    conf=[TP,FP,FN,TN]\n",
    "    return conf\n"
   ]
  },
  {
   "cell_type": "markdown",
   "metadata": {
    "id": "nddDsZ-Tif1G"
   },
   "source": [
    "#### Precision\n",
    "----\n"
   ]
  },
  {
   "cell_type": "code",
   "execution_count": 4,
   "metadata": {
    "id": "u9Kc9uPtLNYV"
   },
   "outputs": [],
   "source": [
    "def precision(contingency_matrix):\n",
    "    precision=[]\n",
    "    for i in range(contingency_matrix.shape[0]):\n",
    "        class_max=np.max(contingency_matrix[i])\n",
    "        precision.append(class_max/np.sum(contingency_matrix[i]))\n",
    "    return precision\n"
   ]
  },
  {
   "cell_type": "markdown",
   "metadata": {
    "id": "I4PcSjrEjRhA"
   },
   "source": [
    "\n",
    "#### Recall\n",
    "---\n",
    "\n"
   ]
  },
  {
   "cell_type": "code",
   "execution_count": 5,
   "metadata": {
    "id": "_EIMdjPShrg4"
   },
   "outputs": [],
   "source": [
    "def recall(contingency_matrix):\n",
    "    recall=[]\n",
    "    for i in range(contingency_matrix.shape[0]):\n",
    "        class_max=np.max(contingency_matrix[i])\n",
    "        index=np.where(contingency_matrix==class_max)[1]\n",
    "        recall.append(class_max/np.sum(contingency_matrix[:,index]))\n",
    "    return recall\n"
   ]
  },
  {
   "cell_type": "markdown",
   "metadata": {
    "id": "EQYAXk0xjeLQ"
   },
   "source": [
    "#### F1-Score\n",
    "----"
   ]
  },
  {
   "cell_type": "code",
   "execution_count": 6,
   "metadata": {
    "id": "-DwP7sWViLKF"
   },
   "outputs": [],
   "source": [
    "def f1_score(precision,recall,clusters):\n",
    "  f1=0\n",
    "  for i in range(clusters):\n",
    "    f1+=(2*precision[i]*recall[i])/(precision[i]+recall[i])\n",
    "  return (1/clusters)*(f1)"
   ]
  },
  {
   "cell_type": "markdown",
   "metadata": {
    "id": "YfSFHSMKJ2_3"
   },
   "source": [
    "# K-means\n"
   ]
  },
  {
   "cell_type": "code",
   "execution_count": null,
   "metadata": {
    "id": "b6t_PXRdJ6jn"
   },
   "outputs": [],
   "source": [
    "k_list = [7, 15, 23, 31, 45]\n"
   ]
  },
  {
   "cell_type": "code",
   "execution_count": 7,
   "metadata": {
    "id": "B6E3BtznJ81m"
   },
   "outputs": [],
   "source": [
    "def euclidean(point, data):\n",
    "    return np.sqrt(np.sum(np.subtract(point,data)**2, axis=1))"
   ]
  },
  {
   "cell_type": "markdown",
   "metadata": {
    "id": "CxeefpyN5wb_"
   },
   "source": [
    "#### Implementation"
   ]
  },
  {
   "cell_type": "code",
   "execution_count": 18,
   "metadata": {
    "id": "nkKL0-XfJ_eU"
   },
   "outputs": [],
   "source": [
    "def k_means(data, k):\n",
    "    new = data.sample(n=k).to_numpy()\n",
    "    epoch = 0\n",
    "    while True:\n",
    "        points = [[] for i in range(k)]\n",
    "        previous=[]\n",
    "        cluster=[]\n",
    "        epoch += 1\n",
    "        #print(epoch)\n",
    "        for point in data.values.tolist():\n",
    "            distances=np.array(euclidean(np.array([np.array(point)]*k),np.array(new)))\n",
    "            #distances = np.array([np.linalg.norm(point-centroid) for centroid in new])\n",
    "            centroid_idx = np.argmin(distances)\n",
    "            cluster.append(centroid_idx)\n",
    "            points[centroid_idx].append(point)\n",
    "        previous=new\n",
    "        new=[np.mean(cluster, axis=0) for cluster in points]\n",
    "        if(np.array_equal(new, previous)):\n",
    "            break\n",
    "    return cluster,new"
   ]
  },
  {
   "cell_type": "code",
   "execution_count": 9,
   "metadata": {
    "id": "WSiKKhPI6slW"
   },
   "outputs": [],
   "source": [
    "def predict(data, centroids):\n",
    "    cluster=[]\n",
    "    for point in test.values.tolist():\n",
    "        distances=np.array(euclidean(np.array(point),centroids))\n",
    "        centroid_idx = np.argmin(distances)\n",
    "        cluster.append(centroid_idx)\n",
    "    return cluster    "
   ]
  },
  {
   "cell_type": "markdown",
   "metadata": {
    "id": "O315p2GJ52OR"
   },
   "source": [
    "#### Data Normalization"
   ]
  },
  {
   "cell_type": "code",
   "execution_count": 10,
   "metadata": {
    "id": "kA_bKUm4KCR0"
   },
   "outputs": [],
   "source": [
    "#normalizing data to improve k means performance\n",
    "def standardization_robust(df, scaler):\n",
    "    arr = np.array(df)\n",
    "    arr=scaler.transform(arr)\n",
    "    return arr\n",
    "\n",
    "def standardization_minmax(arr, col, minmax_scaler):\n",
    "    df=pd.DataFrame(minmax_scaler.transform(arr),columns=col)\n",
    "    return df"
   ]
  },
  {
   "cell_type": "code",
   "execution_count": 16,
   "metadata": {
    "id": "b5E5BklzKIay"
   },
   "outputs": [],
   "source": [
    "scaler = RobustScaler()\n",
    "minmax_scaler= MinMaxScaler()\n",
    "arr = np.array(data)\n",
    "scaler.fit(arr)\n",
    "arr = standardization_robust(data,scaler)\n",
    "minmax_scaler.fit(arr)\n",
    "data = standardization_minmax(arr, data.columns, minmax_scaler)\n",
    "\n",
    "arr_test = np.array(test)\n",
    "arr_test = standardization_robust(test,scaler)\n",
    "test = standardization_minmax(arr_test, test.columns, minmax_scaler)"
   ]
  },
  {
   "cell_type": "markdown",
   "metadata": {
    "id": "IfH4E9qGoeeT"
   },
   "source": [
    "\n",
    "\n",
    "#### Clustering Using K-Means"
   ]
  },
  {
   "cell_type": "code",
   "execution_count": null,
   "metadata": {
    "id": "ibcWcBJ9owzW"
   },
   "outputs": [],
   "source": [
    "cluster_7,centroids_7 = k_means(data, 7)"
   ]
  },
  {
   "cell_type": "code",
   "execution_count": null,
   "metadata": {
    "id": "V8aUFWOKpZ_E"
   },
   "outputs": [],
   "source": [
    "clusters_7=predict(test, centroids_7)\n",
    "  "
   ]
  },
  {
   "cell_type": "code",
   "execution_count": null,
   "metadata": {
    "colab": {
     "base_uri": "https://localhost:8080/"
    },
    "id": "C4yjtM7d4hpc",
    "outputId": "c0c87277-3a99-4eb3-e541-8c8eb5f22286"
   },
   "outputs": [
    {
     "data": {
      "text/plain": [
       "(145571, 114)"
      ]
     },
     "execution_count": 54,
     "metadata": {},
     "output_type": "execute_result"
    }
   ],
   "source": [
    "data"
   ]
  },
  {
   "cell_type": "code",
   "execution_count": null,
   "metadata": {
    "colab": {
     "base_uri": "https://localhost:8080/"
    },
    "id": "qciyblx2s6SQ",
    "outputId": "06e02fbd-d370-47ad-971f-8efa07d6630f"
   },
   "outputs": [
    {
     "name": "stdout",
     "output_type": "stream",
     "text": [
      "conditional entropy when k is 7 = 0.35894129224731053\n",
      "precision when k is 7 = [0.9744268077601411, 0.9493218378719378, 0.768194611982308, 1.0, 0.7306805960977109, 0.9490234104446599, 0.6322701688555347]\n",
      "recall when k is 7 = [0.32608695652173914, 0.3769071820667488, 0.07975204024128071, 0.4380413683705203, 0.09926739162196573, 0.6739130434782609, 0.3918604651162791]\n",
      "F1 score when k is 7 = 0.4612489954277501\n"
     ]
    }
   ],
   "source": [
    "##Evaluation when k = 7\n",
    "cont_7 = metrics.cluster.contingency_matrix(ground_truth,clusters_7)\n",
    "e_7=conditional_entropy(cont_7.T)\n",
    "p_7=precision(cont_7.T)\n",
    "r_7=recall(cont_7.T)\n",
    "f1_7=f1_score(p_7,r_7,cont_7.shape[1])\n",
    "print(f\"conditional entropy when k is 7 = {e_7}\")\n",
    "print(f\"precision when k is 7 = {p_7}\")\n",
    "print(f\"recall when k is 7 = {r_7}\")\n",
    "print(f\"F1 score when k is 7 = {f1_7}\")"
   ]
  },
  {
   "cell_type": "code",
   "execution_count": null,
   "metadata": {
    "id": "zsiWk5-npq9f"
   },
   "outputs": [],
   "source": [
    "cluster_15,centroids_15 = k_means(data, 15)"
   ]
  },
  {
   "cell_type": "code",
   "execution_count": null,
   "metadata": {
    "id": "e5sYscLBq_JP"
   },
   "outputs": [],
   "source": [
    "clusters_15=predict(test, centroids_15)"
   ]
  },
  {
   "cell_type": "code",
   "execution_count": null,
   "metadata": {
    "colab": {
     "base_uri": "https://localhost:8080/"
    },
    "id": "cTEp1gjer-P6",
    "outputId": "b4e32bab-38d9-4fe2-8d95-9de36e79b153"
   },
   "outputs": [
    {
     "name": "stdout",
     "output_type": "stream",
     "text": [
      "conditional entropy when k is 15= 0.2853081783108416\n",
      "precision when k is 15 = [1.0, 1.0, 0.949210088691796, 0.9995949777237748, 0.9426778687652877, 0.9996862252902416, 0.8085106382978723, 1.0, 0.49001248439450684, 0.6827133479212254, 0.9953488372093023, 0.9231448763250883, 0.9293119698397738, 0.7116883116883117, 0.9963518443453587]\n",
      "recall when k is 15 = [0.04257894846694914, 0.3936674250172194, 0.6737654928192013, 0.12138500885303954, 0.3700194109912129, 0.06649829892926468, 0.95, 0.15310840055085578, 0.03276909269270105, 1.0, 0.013399845546951639, 0.05139681290576431, 0.02057982509235875, 0.3186046511627907, 0.05130345849596126]\n",
      "F1 score when k is 15 = 0.3347449968336772\n"
     ]
    }
   ],
   "source": [
    "##Evaluation when k = 15\n",
    "cont_15 = metrics.cluster.contingency_matrix(ground_truth,clusters_15)\n",
    "e_15=conditional_entropy(cont_15.T)\n",
    "p_15=precision(cont_15.T)\n",
    "r_15=recall(cont_15.T)\n",
    "f1_15=f1_score(p_15,r_15,cont_15.shape[1])\n",
    "print(f\"conditional entropy when k is 15= {e_15}\")\n",
    "print(f\"precision when k is 15 = {p_15}\")\n",
    "print(f\"recall when k is 15 = {r_15}\")\n",
    "print(f\"F1 score when k is 15 = {f1_15}\")"
   ]
  },
  {
   "cell_type": "code",
   "execution_count": null,
   "metadata": {
    "id": "j-jXbblzAl8B"
   },
   "outputs": [],
   "source": [
    "cluster_23,centroids_23 = k_means(data, 23)"
   ]
  },
  {
   "cell_type": "code",
   "execution_count": null,
   "metadata": {
    "id": "USlUxIQDCXdA"
   },
   "outputs": [],
   "source": [
    "clusters_23 = predict(test, centroids_23)"
   ]
  },
  {
   "cell_type": "code",
   "execution_count": null,
   "metadata": {
    "colab": {
     "base_uri": "https://localhost:8080/"
    },
    "id": "2paPBv4mCiSx",
    "outputId": "0e380f65-5801-40b0-fa50-dfdb37c18259"
   },
   "outputs": [
    {
     "name": "stdout",
     "output_type": "stream",
     "text": [
      "conditional entropy when k is 15= 0.2535268982825815\n",
      "precision when k is 15 = [0.9829706717123936, 0.4521072796934866, 0.49588607594936707, 0.9505833905284832, 1.0, 1.0, 0.9953488372093023, 1.0, 0.8, 0.8631578947368421, 1.0, 0.9147003745318352, 0.964856455946825, 0.6827133479212254, 0.9824035192961408, 0.9676025917926566, 1.0, 0.9828473413379074, 0.9047619047619048, 0.9993558776167472, 0.9293119698397738, 0.7116883116883117, 1.0]\n",
      "recall when k is 15 = [0.05110171158764509, 0.6781609195402298, 0.03270647659201436, 0.028907766483688507, 0.043497317943687254, 0.26144309240049257, 0.013399845546951639, 0.12064725555774149, 0.0007513932082402788, 0.09534883720930233, 0.06649829892926468, 0.20389889586942456, 0.6711095809561283, 1.0, 0.10254430089123584, 0.009350671035879025, 0.15305921699783592, 0.035879025693473315, 0.95, 0.1295318402871992, 0.02057982509235875, 0.3186046511627907, 0.04257894846694914]\n",
      "F1 score when k is 15 = 0.26036820368872193\n"
     ]
    }
   ],
   "source": [
    "cont_23 = metrics.cluster.contingency_matrix(ground_truth,clusters_23)\n",
    "e_23=conditional_entropy(cont_23.T)\n",
    "p_23=precision(cont_23.T)\n",
    "r_23=recall(cont_23.T)\n",
    "f1_23=f1_score(p_23,r_23,cont_23.shape[1])\n",
    "print(f\"conditional entropy when k is 15= {e_23}\")\n",
    "print(f\"precision when k is 15 = {p_23}\")\n",
    "print(f\"recall when k is 15 = {r_23}\")\n",
    "print(f\"F1 score when k is 15 = {f1_23}\")"
   ]
  },
  {
   "cell_type": "code",
   "execution_count": null,
   "metadata": {
    "id": "iACs0V8ZDBdo"
   },
   "outputs": [],
   "source": [
    "cluster_31,centroids_31 = k_means(data, 31)"
   ]
  },
  {
   "cell_type": "code",
   "execution_count": null,
   "metadata": {
    "id": "oDRZEAk4FNLC"
   },
   "outputs": [],
   "source": [
    "clusters_31 = predict(test, centroids_31)"
   ]
  },
  {
   "cell_type": "code",
   "execution_count": null,
   "metadata": {
    "colab": {
     "base_uri": "https://localhost:8080/"
    },
    "id": "C6udiIe1FTrl",
    "outputId": "f1fee841-8a4b-4bee-8155-cb9c04bb676b"
   },
   "outputs": [
    {
     "name": "stdout",
     "output_type": "stream",
     "text": [
      "conditional entropy when k is 45= 0.24736919864636803\n",
      "precision when k is 45 = [0.7063711911357341, 0.9985974754558204, 1.0, 0.9987129987129987, 0.9845916795069337, 1.0, 0.9504132231404959, 0.5778894472361809, 0.999618320610687, 0.8500196309383589, 0.9402618657937807, 0.9588268471517203, 1.0, 0.8954545454545455, 0.9182608695652174, 1.0, 1.0, 0.6428571428571429, 0.9901974513373477, 0.3414154652686763, 1.0, 1.0, 1.0, 1.0, 0.8947368421052632, 0.6815245478036176, 0.9991652754590985, 0.9378125400692396, 0.7415730337078652, 1.0, 0.6827133479212254]\n",
      "recall when k is 45 = [0.29651162790697677, 0.014860887896307738, 0.047167027346055476, 0.016196698044290456, 0.2199980326578792, 0.09285854810151485, 0.03360397403519025, 0.6609195402298851, 0.054663855899480286, 0.10648239228801888, 0.023981966563002232, 0.03548245705579094, 0.01903403501868975, 0.02906747983474326, 0.022040867441714847, 0.06956648786291249, 0.21959466510822148, 0.010356731875719217, 0.34777690340350187, 0.5199600798403193, 0.023397549623259795, 1.0, 0.07525083612040134, 0.11725908455260796, 0.0003485677964364069, 0.022019995408152616, 0.05887271296478458, 0.30531610694829997, 0.0032461144993114303, 0.022270459810899375, 1.0]\n",
      "F1 score when k is 45 = 0.21402228442257912\n"
     ]
    }
   ],
   "source": [
    "cont_31 = metrics.cluster.contingency_matrix(ground_truth,clusters_31)\n",
    "e_31=conditional_entropy(cont_31.T)\n",
    "p_31=precision(cont_31.T)\n",
    "r_31=recall(cont_31.T)\n",
    "f1_31=f1_score(p_31,r_31,cont_31.shape[1])\n",
    "print(f\"conditional entropy when k is 45= {e_31}\")\n",
    "print(f\"precision when k is 45 = {p_31}\")\n",
    "print(f\"recall when k is 45 = {r_31}\")\n",
    "print(f\"F1 score when k is 45 = {f1_31}\")"
   ]
  },
  {
   "cell_type": "code",
   "execution_count": null,
   "metadata": {
    "id": "CkUefrAGyrDi"
   },
   "outputs": [],
   "source": [
    "cluster_45,centroids_45 = k_means(data, 45)"
   ]
  },
  {
   "cell_type": "code",
   "execution_count": 20,
   "metadata": {
    "id": "CE-e4GMD6cVX"
   },
   "outputs": [],
   "source": [
    "clusters_45 = predict(test, centroids_45)"
   ]
  },
  {
   "cell_type": "code",
   "execution_count": 21,
   "metadata": {
    "colab": {
     "base_uri": "https://localhost:8080/"
    },
    "id": "T-DaO5BE6eTh",
    "outputId": "130f6de6-4c58-44b2-d7da-5df27bbb3d94"
   },
   "outputs": [
    {
     "name": "stdout",
     "output_type": "stream",
     "text": [
      "conditional entropy when k is 45= 0.20687376379107345\n",
      "precision when k is 45 = [1.0, 0.9796167957602935, 1.0, 0.6798444588464031, 1.0, 1.0, 1.0, 1.0, 0.9215909090909091, 1.0, 0.6153846153846154, 0.9370932754880694, 0.9388609715242882, 1.0, 0.9926470588235294, 0.9836556169429097, 0.9715846994535519, 1.0, 0.86, 1.0, 0.6827133479212254, 1.0, 1.0, 1.0, 0.9992896718283847, 0.34571997345719974, 0.6370510396975425, 1.0, 0.9171240985900334, 0.995835646862854, 0.9382716049382716, 1.0, 0.8709677419354839, 0.9831908831908832, 0.9984496124031008, 0.9708454810495627, 0.9713541666666666, 0.7209302325581395, 0.9769784172661871, 1.0, 1.0, 0.9976958525345622, 0.9, 1.0]\n",
      "recall when k is 45 = [0.09236671257131615, 0.11818807790674798, 0.043664294212185095, 0.021894763206779237, 0.011115482982490656, 0.0905428815929536, 0.01335810147982718, 0.017699484460771013, 0.016927219218968503, 0.023272317421886415, 0.14507772020725387, 0.018033436997766692, 0.023397549623259795, 0.01849262173613575, 0.47093023255813954, 0.21016132205390517, 0.01855523783682244, 0.07589022230965965, 0.00634467833956325, 0.03359236671257131, 1.0, 0.05689716349063889, 0.05593704994677631, 0.03531548078729311, 0.34595711194176665, 0.5199600798403193, 0.3918604651162791, 0.017052451420341883, 0.17785059798376157, 0.0748679843877189, 0.95, 0.0474621286641747, 0.0941860465116279, 0.07202938782325562, 0.0134415896140761, 0.034751935881112896, 0.007785268518711778, 0.7126436781609196, 0.04251633236626245, 0.05813495966948652, 0.008703637995449896, 0.009037590532445575, 0.00036559358180156395, 0.06597649809020893]\n",
      "F1 score when k is 45 = 0.18001787411451572\n"
     ]
    }
   ],
   "source": [
    "cont_45 = metrics.cluster.contingency_matrix(ground_truth,clusters_45)\n",
    "e_45=conditional_entropy(cont_45.T)\n",
    "p_45=precision(cont_45.T)\n",
    "r_45=recall(cont_45.T)\n",
    "f1_45=f1_score(p_45,r_45,cont_45.shape[1])\n",
    "print(f\"conditional entropy when k is 45= {e_45}\")\n",
    "print(f\"precision when k is 45 = {p_45}\")\n",
    "print(f\"recall when k is 45 = {r_45}\")\n",
    "print(f\"F1 score when k is 45 = {f1_45}\")"
   ]
  },
  {
   "cell_type": "markdown",
   "metadata": {
    "id": "L42Rss9xH-P7"
   },
   "source": [
    "# Spectral Clustering"
   ]
  },
  {
   "cell_type": "markdown",
   "metadata": {
    "id": "1hUGbOIu6IMa"
   },
   "source": [
    "#### reading and encoding data"
   ]
  },
  {
   "cell_type": "code",
   "execution_count": null,
   "metadata": {
    "id": "i5OktC-sH_9k"
   },
   "outputs": [],
   "source": [
    "whole_data, whole_labels = import_data(path_of_whole_data, columns, ['service', 'flag', 'protocol_type'])\n",
    "whole_data['labels'] = whole_labels\n",
    "train_spectral, test_spectral = train_test_split(whole_data, train_size = 0.0025, random_state = 42, stratify = whole_labels)\n",
    "train_spectral_labels = train_spectral['labels']\n",
    "le = LabelEncoder()\n",
    "train_spectral_labels_encoded = le.fit_transform(train_spectral_labels)\n",
    "train_spectral.drop(['labels'], axis = 1, inplace=True)\n",
    "k = len(np.unique(train_spectral_labels))\n",
    "train_spectral_labels_unique_alphabetically = sorted(train_spectral_labels.unique())"
   ]
  },
  {
   "cell_type": "markdown",
   "metadata": {
    "id": "X63Y_bbx6NlI"
   },
   "source": [
    "#### Implementation"
   ]
  },
  {
   "cell_type": "code",
   "execution_count": null,
   "metadata": {
    "id": "b5oDig2DIB5_"
   },
   "outputs": [],
   "source": [
    "def spectral_clustering(sim_matrix, k):\n",
    "    degree_matrix = np.diag(np.sum(sim_matrix, axis=1))\n",
    "    L = degree_matrix - sim_matrix \n",
    "    La = np.dot(np.linalg.inv(degree_matrix), L)\n",
    "    eigen_vals, eigen_vectors = np.linalg.eigh(La)\n",
    "    idx = np.argsort(eigen_vals) #Index of arranged eigen values in ascending order\n",
    "    eigen_vals = eigen_vals[idx]\n",
    "    eigen_vectors = eigen_vectors[:,idx]\n",
    "    U = eigen_vectors[:, :k]\n",
    "    Y = normalize(U)\n",
    "    #Y_df = pd.DataFrame(Y)\n",
    "    #kms, centroids = k_means(Y_df, k)\n",
    "    kms = KMeans(n_clusters=k)\n",
    "    C = kms.fit_predict(Y)\n",
    "    return C, Y"
   ]
  },
  {
   "cell_type": "markdown",
   "metadata": {
    "id": "1ySwwZJv6QNd"
   },
   "source": [
    "#### Clustering using spectral clustering"
   ]
  },
  {
   "cell_type": "code",
   "execution_count": null,
   "metadata": {
    "id": "BIoLacuSMCZ0"
   },
   "outputs": [],
   "source": [
    "sim_matrix = rbf_kernel(np.array(train_spectral), gamma=0.1)\n",
    "C, Y = spectral_clustering(sim_matrix,k)"
   ]
  },
  {
   "cell_type": "markdown",
   "metadata": {
    "id": "bBpPBMJn6VuF"
   },
   "source": [
    "#### Evaluation"
   ]
  },
  {
   "cell_type": "code",
   "execution_count": null,
   "metadata": {
    "colab": {
     "base_uri": "https://localhost:8080/",
     "height": 394
    },
    "id": "JiYHP4nhJRks",
    "outputId": "00249cbe-8fdf-448f-fe35-cb86dbd411df"
   },
   "outputs": [
    {
     "data": {
      "text/html": [
       "\n",
       "  <div id=\"df-f12b622d-19f6-43c2-95bd-dd0ac6427534\">\n",
       "    <div class=\"colab-df-container\">\n",
       "      <div>\n",
       "<style scoped>\n",
       "    .dataframe tbody tr th:only-of-type {\n",
       "        vertical-align: middle;\n",
       "    }\n",
       "\n",
       "    .dataframe tbody tr th {\n",
       "        vertical-align: top;\n",
       "    }\n",
       "\n",
       "    .dataframe thead th {\n",
       "        text-align: right;\n",
       "    }\n",
       "</style>\n",
       "<table border=\"1\" class=\"dataframe\">\n",
       "  <thead>\n",
       "    <tr style=\"text-align: right;\">\n",
       "      <th></th>\n",
       "      <th>0</th>\n",
       "      <th>1</th>\n",
       "      <th>2</th>\n",
       "      <th>3</th>\n",
       "      <th>4</th>\n",
       "      <th>5</th>\n",
       "      <th>6</th>\n",
       "      <th>7</th>\n",
       "      <th>8</th>\n",
       "      <th>9</th>\n",
       "      <th>10</th>\n",
       "    </tr>\n",
       "  </thead>\n",
       "  <tbody>\n",
       "    <tr>\n",
       "      <th>0</th>\n",
       "      <td>2</td>\n",
       "      <td>9</td>\n",
       "      <td>20</td>\n",
       "      <td>4</td>\n",
       "      <td>2009</td>\n",
       "      <td>1</td>\n",
       "      <td>5</td>\n",
       "      <td>10</td>\n",
       "      <td>8</td>\n",
       "      <td>2</td>\n",
       "      <td>2</td>\n",
       "    </tr>\n",
       "    <tr>\n",
       "      <th>1</th>\n",
       "      <td>0</td>\n",
       "      <td>0</td>\n",
       "      <td>143</td>\n",
       "      <td>0</td>\n",
       "      <td>0</td>\n",
       "      <td>0</td>\n",
       "      <td>1</td>\n",
       "      <td>0</td>\n",
       "      <td>0</td>\n",
       "      <td>0</td>\n",
       "      <td>0</td>\n",
       "    </tr>\n",
       "    <tr>\n",
       "      <th>2</th>\n",
       "      <td>0</td>\n",
       "      <td>0</td>\n",
       "      <td>135</td>\n",
       "      <td>0</td>\n",
       "      <td>0</td>\n",
       "      <td>0</td>\n",
       "      <td>0</td>\n",
       "      <td>0</td>\n",
       "      <td>0</td>\n",
       "      <td>0</td>\n",
       "      <td>0</td>\n",
       "    </tr>\n",
       "    <tr>\n",
       "      <th>3</th>\n",
       "      <td>0</td>\n",
       "      <td>0</td>\n",
       "      <td>63</td>\n",
       "      <td>0</td>\n",
       "      <td>1</td>\n",
       "      <td>0</td>\n",
       "      <td>1</td>\n",
       "      <td>1</td>\n",
       "      <td>0</td>\n",
       "      <td>0</td>\n",
       "      <td>0</td>\n",
       "    </tr>\n",
       "    <tr>\n",
       "      <th>4</th>\n",
       "      <td>0</td>\n",
       "      <td>0</td>\n",
       "      <td>70</td>\n",
       "      <td>0</td>\n",
       "      <td>2</td>\n",
       "      <td>0</td>\n",
       "      <td>1</td>\n",
       "      <td>0</td>\n",
       "      <td>0</td>\n",
       "      <td>0</td>\n",
       "      <td>0</td>\n",
       "    </tr>\n",
       "    <tr>\n",
       "      <th>5</th>\n",
       "      <td>0</td>\n",
       "      <td>0</td>\n",
       "      <td>36</td>\n",
       "      <td>0</td>\n",
       "      <td>6</td>\n",
       "      <td>0</td>\n",
       "      <td>0</td>\n",
       "      <td>0</td>\n",
       "      <td>0</td>\n",
       "      <td>0</td>\n",
       "      <td>0</td>\n",
       "    </tr>\n",
       "    <tr>\n",
       "      <th>6</th>\n",
       "      <td>0</td>\n",
       "      <td>0</td>\n",
       "      <td>47</td>\n",
       "      <td>0</td>\n",
       "      <td>3</td>\n",
       "      <td>0</td>\n",
       "      <td>0</td>\n",
       "      <td>0</td>\n",
       "      <td>0</td>\n",
       "      <td>0</td>\n",
       "      <td>0</td>\n",
       "    </tr>\n",
       "    <tr>\n",
       "      <th>7</th>\n",
       "      <td>0</td>\n",
       "      <td>0</td>\n",
       "      <td>28</td>\n",
       "      <td>0</td>\n",
       "      <td>8</td>\n",
       "      <td>0</td>\n",
       "      <td>1</td>\n",
       "      <td>1</td>\n",
       "      <td>0</td>\n",
       "      <td>0</td>\n",
       "      <td>0</td>\n",
       "    </tr>\n",
       "    <tr>\n",
       "      <th>8</th>\n",
       "      <td>0</td>\n",
       "      <td>0</td>\n",
       "      <td>36</td>\n",
       "      <td>0</td>\n",
       "      <td>3</td>\n",
       "      <td>0</td>\n",
       "      <td>0</td>\n",
       "      <td>1</td>\n",
       "      <td>0</td>\n",
       "      <td>0</td>\n",
       "      <td>0</td>\n",
       "    </tr>\n",
       "    <tr>\n",
       "      <th>9</th>\n",
       "      <td>0</td>\n",
       "      <td>0</td>\n",
       "      <td>14</td>\n",
       "      <td>0</td>\n",
       "      <td>0</td>\n",
       "      <td>0</td>\n",
       "      <td>0</td>\n",
       "      <td>0</td>\n",
       "      <td>0</td>\n",
       "      <td>0</td>\n",
       "      <td>0</td>\n",
       "    </tr>\n",
       "    <tr>\n",
       "      <th>10</th>\n",
       "      <td>0</td>\n",
       "      <td>0</td>\n",
       "      <td>13</td>\n",
       "      <td>0</td>\n",
       "      <td>0</td>\n",
       "      <td>0</td>\n",
       "      <td>0</td>\n",
       "      <td>0</td>\n",
       "      <td>0</td>\n",
       "      <td>0</td>\n",
       "      <td>0</td>\n",
       "    </tr>\n",
       "  </tbody>\n",
       "</table>\n",
       "</div>\n",
       "      <button class=\"colab-df-convert\" onclick=\"convertToInteractive('df-f12b622d-19f6-43c2-95bd-dd0ac6427534')\"\n",
       "              title=\"Convert this dataframe to an interactive table.\"\n",
       "              style=\"display:none;\">\n",
       "        \n",
       "  <svg xmlns=\"http://www.w3.org/2000/svg\" height=\"24px\"viewBox=\"0 0 24 24\"\n",
       "       width=\"24px\">\n",
       "    <path d=\"M0 0h24v24H0V0z\" fill=\"none\"/>\n",
       "    <path d=\"M18.56 5.44l.94 2.06.94-2.06 2.06-.94-2.06-.94-.94-2.06-.94 2.06-2.06.94zm-11 1L8.5 8.5l.94-2.06 2.06-.94-2.06-.94L8.5 2.5l-.94 2.06-2.06.94zm10 10l.94 2.06.94-2.06 2.06-.94-2.06-.94-.94-2.06-.94 2.06-2.06.94z\"/><path d=\"M17.41 7.96l-1.37-1.37c-.4-.4-.92-.59-1.43-.59-.52 0-1.04.2-1.43.59L10.3 9.45l-7.72 7.72c-.78.78-.78 2.05 0 2.83L4 21.41c.39.39.9.59 1.41.59.51 0 1.02-.2 1.41-.59l7.78-7.78 2.81-2.81c.8-.78.8-2.07 0-2.86zM5.41 20L4 18.59l7.72-7.72 1.47 1.35L5.41 20z\"/>\n",
       "  </svg>\n",
       "      </button>\n",
       "      \n",
       "  <style>\n",
       "    .colab-df-container {\n",
       "      display:flex;\n",
       "      flex-wrap:wrap;\n",
       "      gap: 12px;\n",
       "    }\n",
       "\n",
       "    .colab-df-convert {\n",
       "      background-color: #E8F0FE;\n",
       "      border: none;\n",
       "      border-radius: 50%;\n",
       "      cursor: pointer;\n",
       "      display: none;\n",
       "      fill: #1967D2;\n",
       "      height: 32px;\n",
       "      padding: 0 0 0 0;\n",
       "      width: 32px;\n",
       "    }\n",
       "\n",
       "    .colab-df-convert:hover {\n",
       "      background-color: #E2EBFA;\n",
       "      box-shadow: 0px 1px 2px rgba(60, 64, 67, 0.3), 0px 1px 3px 1px rgba(60, 64, 67, 0.15);\n",
       "      fill: #174EA6;\n",
       "    }\n",
       "\n",
       "    [theme=dark] .colab-df-convert {\n",
       "      background-color: #3B4455;\n",
       "      fill: #D2E3FC;\n",
       "    }\n",
       "\n",
       "    [theme=dark] .colab-df-convert:hover {\n",
       "      background-color: #434B5C;\n",
       "      box-shadow: 0px 1px 3px 1px rgba(0, 0, 0, 0.15);\n",
       "      filter: drop-shadow(0px 1px 2px rgba(0, 0, 0, 0.3));\n",
       "      fill: #FFFFFF;\n",
       "    }\n",
       "  </style>\n",
       "\n",
       "      <script>\n",
       "        const buttonEl =\n",
       "          document.querySelector('#df-f12b622d-19f6-43c2-95bd-dd0ac6427534 button.colab-df-convert');\n",
       "        buttonEl.style.display =\n",
       "          google.colab.kernel.accessAllowed ? 'block' : 'none';\n",
       "\n",
       "        async function convertToInteractive(key) {\n",
       "          const element = document.querySelector('#df-f12b622d-19f6-43c2-95bd-dd0ac6427534');\n",
       "          const dataTable =\n",
       "            await google.colab.kernel.invokeFunction('convertToInteractive',\n",
       "                                                     [key], {});\n",
       "          if (!dataTable) return;\n",
       "\n",
       "          const docLinkHtml = 'Like what you see? Visit the ' +\n",
       "            '<a target=\"_blank\" href=https://colab.research.google.com/notebooks/data_table.ipynb>data table notebook</a>'\n",
       "            + ' to learn more about interactive tables.';\n",
       "          element.innerHTML = '';\n",
       "          dataTable['output_type'] = 'display_data';\n",
       "          await google.colab.output.renderOutput(dataTable, element);\n",
       "          const docLink = document.createElement('div');\n",
       "          docLink.innerHTML = docLinkHtml;\n",
       "          element.appendChild(docLink);\n",
       "        }\n",
       "      </script>\n",
       "    </div>\n",
       "  </div>\n",
       "  "
      ],
      "text/plain": [
       "    0   1    2   3     4   5   6   7   8   9   10\n",
       "0    2   9   20   4  2009   1   5  10   8   2   2\n",
       "1    0   0  143   0     0   0   1   0   0   0   0\n",
       "2    0   0  135   0     0   0   0   0   0   0   0\n",
       "3    0   0   63   0     1   0   1   1   0   0   0\n",
       "4    0   0   70   0     2   0   1   0   0   0   0\n",
       "5    0   0   36   0     6   0   0   0   0   0   0\n",
       "6    0   0   47   0     3   0   0   0   0   0   0\n",
       "7    0   0   28   0     8   0   1   1   0   0   0\n",
       "8    0   0   36   0     3   0   0   1   0   0   0\n",
       "9    0   0   14   0     0   0   0   0   0   0   0\n",
       "10   0   0   13   0     0   0   0   0   0   0   0"
      ]
     },
     "execution_count": 112,
     "metadata": {},
     "output_type": "execute_result"
    }
   ],
   "source": [
    "contg_matrix_spectral = contingency_matrix(labels_true = train_spectral_labels, labels_pred = C).T\n",
    "pd.DataFrame(contg_matrix_spectral)"
   ]
  },
  {
   "cell_type": "code",
   "execution_count": null,
   "metadata": {
    "colab": {
     "base_uri": "https://localhost:8080/"
    },
    "id": "RZn8mf6dL_iL",
    "outputId": "06e972f3-0bec-4ac5-9745-0e146104c6a1"
   },
   "outputs": [
    {
     "name": "stdout",
     "output_type": "stream",
     "text": [
      "Precision for each Cluster: [0.9695945945945946, 0.9930555555555556, 1.0, 0.9545454545454546, 0.958904109589041, 0.8571428571428571, 0.94, 0.7368421052631579, 0.9, 1.0, 1.0]\n",
      "Recall for each Cluster: [0.9886811023622047, 0.23636363636363636, 0.2231404958677686, 0.10413223140495868, 0.11570247933884298, 0.02975206611570248, 0.07768595041322314, 0.04628099173553719, 0.02975206611570248, 0.023140495867768594, 0.021487603305785124]\n",
      "Average F1 score across all clusters:0.2320943551061556\n"
     ]
    }
   ],
   "source": [
    "x=precision(contg_matrix_spectral)\n",
    "y=recall(contg_matrix_spectral)\n",
    "f1=f1_score(x,y,contg_matrix_spectral.shape[0])\n",
    "print(\"Precision for each Cluster: \" + str(x))\n",
    "print(\"Recall for each Cluster: \" +str(y))\n",
    "print(\"Average F1 score across all clusters:\" + str(f1))"
   ]
  },
  {
   "cell_type": "code",
   "execution_count": null,
   "metadata": {
    "id": "9JQS_1PAJxwB"
   },
   "outputs": [],
   "source": [
    "#num_detected_spectral = sum(contg_matrix_spectral[0]) \n",
    "num_detected_spectral =  sum(sum(contg_matrix_spectral[1:][:])) "
   ]
  },
  {
   "cell_type": "code",
   "execution_count": null,
   "metadata": {
    "colab": {
     "base_uri": "https://localhost:8080/"
    },
    "id": "2SvtXNTyKHeJ",
    "outputId": "0984ad8a-bd27-44ec-b802-8457c38ef39d"
   },
   "outputs": [
    {
     "data": {
      "text/plain": [
       "615"
      ]
     },
     "execution_count": 99,
     "metadata": {},
     "output_type": "execute_result"
    }
   ],
   "source": [
    "num_detected_spectral"
   ]
  },
  {
   "cell_type": "code",
   "execution_count": null,
   "metadata": {
    "id": "LLyL76_ELSFA"
   },
   "outputs": [],
   "source": [
    "scaler_2 = RobustScaler()\n",
    "minmax_scaler_2= MinMaxScaler()\n",
    "arr = np.array(train_spectral)\n",
    "scaler_2.fit(arr)\n",
    "arr = standardization_robust(train_spectral,scaler_2)\n",
    "minmax_scaler_2.fit(arr)\n",
    "train_spectral_means = standardization_minmax(arr, train_spectral.columns, minmax_scaler_2)"
   ]
  },
  {
   "cell_type": "markdown",
   "metadata": {
    "id": "Yhwpfdho6ZFj"
   },
   "source": [
    "#### Kmeans on same K of spectral clustering"
   ]
  },
  {
   "cell_type": "code",
   "execution_count": null,
   "metadata": {
    "id": "0izsjVG9MAHi"
   },
   "outputs": [],
   "source": [
    "C_means, centroids_means = k_means(train_spectral_means, 11)"
   ]
  },
  {
   "cell_type": "code",
   "execution_count": null,
   "metadata": {
    "colab": {
     "base_uri": "https://localhost:8080/",
     "height": 394
    },
    "id": "wY9a3YTwMN4V",
    "outputId": "f321e28c-0bc6-4ee3-9e27-e7f134cd0d09"
   },
   "outputs": [
    {
     "data": {
      "text/html": [
       "\n",
       "  <div id=\"df-be3a5bfa-f057-4fea-8a69-4ee2ebcbed15\">\n",
       "    <div class=\"colab-df-container\">\n",
       "      <div>\n",
       "<style scoped>\n",
       "    .dataframe tbody tr th:only-of-type {\n",
       "        vertical-align: middle;\n",
       "    }\n",
       "\n",
       "    .dataframe tbody tr th {\n",
       "        vertical-align: top;\n",
       "    }\n",
       "\n",
       "    .dataframe thead th {\n",
       "        text-align: right;\n",
       "    }\n",
       "</style>\n",
       "<table border=\"1\" class=\"dataframe\">\n",
       "  <thead>\n",
       "    <tr style=\"text-align: right;\">\n",
       "      <th></th>\n",
       "      <th>0</th>\n",
       "      <th>1</th>\n",
       "      <th>2</th>\n",
       "      <th>3</th>\n",
       "      <th>4</th>\n",
       "      <th>5</th>\n",
       "      <th>6</th>\n",
       "      <th>7</th>\n",
       "      <th>8</th>\n",
       "      <th>9</th>\n",
       "      <th>10</th>\n",
       "    </tr>\n",
       "  </thead>\n",
       "  <tbody>\n",
       "    <tr>\n",
       "      <th>0</th>\n",
       "      <td>0</td>\n",
       "      <td>0</td>\n",
       "      <td>0</td>\n",
       "      <td>0</td>\n",
       "      <td>91</td>\n",
       "      <td>0</td>\n",
       "      <td>0</td>\n",
       "      <td>0</td>\n",
       "      <td>0</td>\n",
       "      <td>0</td>\n",
       "      <td>0</td>\n",
       "    </tr>\n",
       "    <tr>\n",
       "      <th>1</th>\n",
       "      <td>0</td>\n",
       "      <td>0</td>\n",
       "      <td>0</td>\n",
       "      <td>0</td>\n",
       "      <td>494</td>\n",
       "      <td>0</td>\n",
       "      <td>0</td>\n",
       "      <td>0</td>\n",
       "      <td>0</td>\n",
       "      <td>0</td>\n",
       "      <td>0</td>\n",
       "    </tr>\n",
       "    <tr>\n",
       "      <th>2</th>\n",
       "      <td>0</td>\n",
       "      <td>0</td>\n",
       "      <td>529</td>\n",
       "      <td>2</td>\n",
       "      <td>0</td>\n",
       "      <td>0</td>\n",
       "      <td>3</td>\n",
       "      <td>6</td>\n",
       "      <td>0</td>\n",
       "      <td>0</td>\n",
       "      <td>0</td>\n",
       "    </tr>\n",
       "    <tr>\n",
       "      <th>3</th>\n",
       "      <td>0</td>\n",
       "      <td>0</td>\n",
       "      <td>0</td>\n",
       "      <td>0</td>\n",
       "      <td>98</td>\n",
       "      <td>0</td>\n",
       "      <td>0</td>\n",
       "      <td>0</td>\n",
       "      <td>0</td>\n",
       "      <td>0</td>\n",
       "      <td>0</td>\n",
       "    </tr>\n",
       "    <tr>\n",
       "      <th>4</th>\n",
       "      <td>0</td>\n",
       "      <td>1</td>\n",
       "      <td>76</td>\n",
       "      <td>0</td>\n",
       "      <td>85</td>\n",
       "      <td>0</td>\n",
       "      <td>6</td>\n",
       "      <td>4</td>\n",
       "      <td>0</td>\n",
       "      <td>0</td>\n",
       "      <td>0</td>\n",
       "    </tr>\n",
       "    <tr>\n",
       "      <th>5</th>\n",
       "      <td>0</td>\n",
       "      <td>1</td>\n",
       "      <td>0</td>\n",
       "      <td>0</td>\n",
       "      <td>211</td>\n",
       "      <td>1</td>\n",
       "      <td>0</td>\n",
       "      <td>1</td>\n",
       "      <td>1</td>\n",
       "      <td>0</td>\n",
       "      <td>2</td>\n",
       "    </tr>\n",
       "    <tr>\n",
       "      <th>6</th>\n",
       "      <td>0</td>\n",
       "      <td>0</td>\n",
       "      <td>0</td>\n",
       "      <td>0</td>\n",
       "      <td>60</td>\n",
       "      <td>0</td>\n",
       "      <td>0</td>\n",
       "      <td>0</td>\n",
       "      <td>0</td>\n",
       "      <td>0</td>\n",
       "      <td>0</td>\n",
       "    </tr>\n",
       "    <tr>\n",
       "      <th>7</th>\n",
       "      <td>1</td>\n",
       "      <td>0</td>\n",
       "      <td>0</td>\n",
       "      <td>0</td>\n",
       "      <td>467</td>\n",
       "      <td>0</td>\n",
       "      <td>0</td>\n",
       "      <td>0</td>\n",
       "      <td>0</td>\n",
       "      <td>0</td>\n",
       "      <td>0</td>\n",
       "    </tr>\n",
       "    <tr>\n",
       "      <th>8</th>\n",
       "      <td>0</td>\n",
       "      <td>7</td>\n",
       "      <td>0</td>\n",
       "      <td>2</td>\n",
       "      <td>126</td>\n",
       "      <td>0</td>\n",
       "      <td>0</td>\n",
       "      <td>2</td>\n",
       "      <td>7</td>\n",
       "      <td>2</td>\n",
       "      <td>0</td>\n",
       "    </tr>\n",
       "    <tr>\n",
       "      <th>9</th>\n",
       "      <td>1</td>\n",
       "      <td>0</td>\n",
       "      <td>0</td>\n",
       "      <td>0</td>\n",
       "      <td>268</td>\n",
       "      <td>0</td>\n",
       "      <td>0</td>\n",
       "      <td>0</td>\n",
       "      <td>0</td>\n",
       "      <td>0</td>\n",
       "      <td>0</td>\n",
       "    </tr>\n",
       "    <tr>\n",
       "      <th>10</th>\n",
       "      <td>0</td>\n",
       "      <td>0</td>\n",
       "      <td>0</td>\n",
       "      <td>0</td>\n",
       "      <td>132</td>\n",
       "      <td>0</td>\n",
       "      <td>0</td>\n",
       "      <td>0</td>\n",
       "      <td>0</td>\n",
       "      <td>0</td>\n",
       "      <td>0</td>\n",
       "    </tr>\n",
       "  </tbody>\n",
       "</table>\n",
       "</div>\n",
       "      <button class=\"colab-df-convert\" onclick=\"convertToInteractive('df-be3a5bfa-f057-4fea-8a69-4ee2ebcbed15')\"\n",
       "              title=\"Convert this dataframe to an interactive table.\"\n",
       "              style=\"display:none;\">\n",
       "        \n",
       "  <svg xmlns=\"http://www.w3.org/2000/svg\" height=\"24px\"viewBox=\"0 0 24 24\"\n",
       "       width=\"24px\">\n",
       "    <path d=\"M0 0h24v24H0V0z\" fill=\"none\"/>\n",
       "    <path d=\"M18.56 5.44l.94 2.06.94-2.06 2.06-.94-2.06-.94-.94-2.06-.94 2.06-2.06.94zm-11 1L8.5 8.5l.94-2.06 2.06-.94-2.06-.94L8.5 2.5l-.94 2.06-2.06.94zm10 10l.94 2.06.94-2.06 2.06-.94-2.06-.94-.94-2.06-.94 2.06-2.06.94z\"/><path d=\"M17.41 7.96l-1.37-1.37c-.4-.4-.92-.59-1.43-.59-.52 0-1.04.2-1.43.59L10.3 9.45l-7.72 7.72c-.78.78-.78 2.05 0 2.83L4 21.41c.39.39.9.59 1.41.59.51 0 1.02-.2 1.41-.59l7.78-7.78 2.81-2.81c.8-.78.8-2.07 0-2.86zM5.41 20L4 18.59l7.72-7.72 1.47 1.35L5.41 20z\"/>\n",
       "  </svg>\n",
       "      </button>\n",
       "      \n",
       "  <style>\n",
       "    .colab-df-container {\n",
       "      display:flex;\n",
       "      flex-wrap:wrap;\n",
       "      gap: 12px;\n",
       "    }\n",
       "\n",
       "    .colab-df-convert {\n",
       "      background-color: #E8F0FE;\n",
       "      border: none;\n",
       "      border-radius: 50%;\n",
       "      cursor: pointer;\n",
       "      display: none;\n",
       "      fill: #1967D2;\n",
       "      height: 32px;\n",
       "      padding: 0 0 0 0;\n",
       "      width: 32px;\n",
       "    }\n",
       "\n",
       "    .colab-df-convert:hover {\n",
       "      background-color: #E2EBFA;\n",
       "      box-shadow: 0px 1px 2px rgba(60, 64, 67, 0.3), 0px 1px 3px 1px rgba(60, 64, 67, 0.15);\n",
       "      fill: #174EA6;\n",
       "    }\n",
       "\n",
       "    [theme=dark] .colab-df-convert {\n",
       "      background-color: #3B4455;\n",
       "      fill: #D2E3FC;\n",
       "    }\n",
       "\n",
       "    [theme=dark] .colab-df-convert:hover {\n",
       "      background-color: #434B5C;\n",
       "      box-shadow: 0px 1px 3px 1px rgba(0, 0, 0, 0.15);\n",
       "      filter: drop-shadow(0px 1px 2px rgba(0, 0, 0, 0.3));\n",
       "      fill: #FFFFFF;\n",
       "    }\n",
       "  </style>\n",
       "\n",
       "      <script>\n",
       "        const buttonEl =\n",
       "          document.querySelector('#df-be3a5bfa-f057-4fea-8a69-4ee2ebcbed15 button.colab-df-convert');\n",
       "        buttonEl.style.display =\n",
       "          google.colab.kernel.accessAllowed ? 'block' : 'none';\n",
       "\n",
       "        async function convertToInteractive(key) {\n",
       "          const element = document.querySelector('#df-be3a5bfa-f057-4fea-8a69-4ee2ebcbed15');\n",
       "          const dataTable =\n",
       "            await google.colab.kernel.invokeFunction('convertToInteractive',\n",
       "                                                     [key], {});\n",
       "          if (!dataTable) return;\n",
       "\n",
       "          const docLinkHtml = 'Like what you see? Visit the ' +\n",
       "            '<a target=\"_blank\" href=https://colab.research.google.com/notebooks/data_table.ipynb>data table notebook</a>'\n",
       "            + ' to learn more about interactive tables.';\n",
       "          element.innerHTML = '';\n",
       "          dataTable['output_type'] = 'display_data';\n",
       "          await google.colab.output.renderOutput(dataTable, element);\n",
       "          const docLink = document.createElement('div');\n",
       "          docLink.innerHTML = docLinkHtml;\n",
       "          element.appendChild(docLink);\n",
       "        }\n",
       "      </script>\n",
       "    </div>\n",
       "  </div>\n",
       "  "
      ],
      "text/plain": [
       "    0   1    2   3    4   5   6   7   8   9   10\n",
       "0    0   0    0   0   91   0   0   0   0   0   0\n",
       "1    0   0    0   0  494   0   0   0   0   0   0\n",
       "2    0   0  529   2    0   0   3   6   0   0   0\n",
       "3    0   0    0   0   98   0   0   0   0   0   0\n",
       "4    0   1   76   0   85   0   6   4   0   0   0\n",
       "5    0   1    0   0  211   1   0   1   1   0   2\n",
       "6    0   0    0   0   60   0   0   0   0   0   0\n",
       "7    1   0    0   0  467   0   0   0   0   0   0\n",
       "8    0   7    0   2  126   0   0   2   7   2   0\n",
       "9    1   0    0   0  268   0   0   0   0   0   0\n",
       "10   0   0    0   0  132   0   0   0   0   0   0"
      ]
     },
     "execution_count": 113,
     "metadata": {},
     "output_type": "execute_result"
    }
   ],
   "source": [
    "contg_matrix_means = contingency_matrix(labels_true = train_spectral_labels, labels_pred = C_means).T\n",
    "pd.DataFrame(contg_matrix_means)"
   ]
  },
  {
   "cell_type": "code",
   "execution_count": null,
   "metadata": {
    "colab": {
     "base_uri": "https://localhost:8080/"
    },
    "id": "Z3_2F3biMTmp",
    "outputId": "eb89513e-688e-4c11-f713-ec3c0bd6d849"
   },
   "outputs": [
    {
     "data": {
      "text/plain": [
       "712"
      ]
     },
     "execution_count": 114,
     "metadata": {},
     "output_type": "execute_result"
    }
   ],
   "source": [
    "num_detected_means = sum(contg_matrix_means[2]) + sum(contg_matrix_means[4])\n",
    "num_detected_means"
   ]
  },
  {
   "cell_type": "code",
   "execution_count": null,
   "metadata": {
    "id": "mde9nwCOMvQ9"
   },
   "outputs": [],
   "source": [
    "entropy_spectral = conditional_entropy(contg_matrix_spectral)\n",
    "p_s = precision(contg_matrix_spectral)\n",
    "r_s = recall(contg_matrix_spectral)\n",
    "f1_s = f1_score(p_s, r_s, 11)"
   ]
  },
  {
   "cell_type": "code",
   "execution_count": null,
   "metadata": {
    "colab": {
     "base_uri": "https://localhost:8080/"
    },
    "id": "rwtItbfRM-OU",
    "outputId": "ac59c9dc-880a-4b9f-c031-5f7ab594086b"
   },
   "outputs": [
    {
     "name": "stdout",
     "output_type": "stream",
     "text": [
      "Conditional entropy = 0.2759862350568628\n",
      "Precision = [0.9695945945945946, 0.9930555555555556, 1.0, 0.9545454545454546, 0.958904109589041, 0.8571428571428571, 0.94, 0.7368421052631579, 0.9, 1.0, 1.0]\n",
      "Recall = [0.9886811023622047, 0.23636363636363636, 0.2231404958677686, 0.10413223140495868, 0.11570247933884298, 0.02975206611570248, 0.07768595041322314, 0.04628099173553719, 0.02975206611570248, 0.023140495867768594, 0.021487603305785124]\n",
      "F1 score = 0.2320943551061556\n"
     ]
    }
   ],
   "source": [
    "print(\"Conditional entropy = \" + str(entropy_spectral))\n",
    "print(\"Precision = \" + str(p_s))\n",
    "print(\"Recall = \" + str(r_s))\n",
    "print(\"F1 score = \" + str(f1_s))"
   ]
  },
  {
   "cell_type": "markdown",
   "metadata": {
    "id": "Fu-bmwmg6fBK"
   },
   "source": [
    "# Agglomerative Clustering"
   ]
  },
  {
   "cell_type": "markdown",
   "metadata": {
    "id": "tno4asD96iRH"
   },
   "source": [
    "#### Implementation"
   ]
  },
  {
   "cell_type": "code",
   "execution_count": null,
   "metadata": {
    "id": "etNnU3ocPtDH"
   },
   "outputs": [],
   "source": [
    "def agglomerative(data, k):\n",
    "    clusters = [[i] for i in range(data.shape[0])] # each point in a separate cluster\n",
    "    means = data.to_numpy()\n",
    "    distances = distance_matrix(means, means) # compute distance matrix\n",
    "    distances[distances == 0] = np.Inf\n",
    "    while(len(means) > k):\n",
    "        print(len(means))\n",
    "        print(len(clusters))\n",
    "\n",
    "        # getting the minimum distance\n",
    "        (index1,index2) = np.unravel_index(distances.argmin(), distances.shape)\n",
    "\n",
    "        # compute the mean of the closest clusters\n",
    "        mean = [means[index1], means[index2]]\n",
    "        mean = np.mean(mean, axis = 0)\n",
    "\n",
    "        # concatenating the clusters\n",
    "        clusters[index1] = clusters[index1] + clusters[index2]\n",
    "\n",
    "        #updating the mean vector\n",
    "        means[index1] = mean\n",
    "        \n",
    "        # deleting the old clusters and their means\n",
    "        clusters.pop(index2)\n",
    "        means = np.delete(means, index2, axis = 0)\n",
    "\n",
    "        #updating the distance matrix\n",
    "        distances = distance_matrix(means, means)\n",
    "        distances[distances == 0] = np.Inf\n",
    "        #print('--------------------') \n",
    "    return clusters, means\n",
    "\n"
   ]
  },
  {
   "cell_type": "markdown",
   "metadata": {
    "id": "yVpg5iMl6nj9"
   },
   "source": [
    "#### Clustering using Agglomerative Clustering"
   ]
  },
  {
   "cell_type": "code",
   "execution_count": null,
   "metadata": {
    "id": "qV7TWDr6ZlpF"
   },
   "outputs": [],
   "source": [
    "clusters, means = agglomerative(train_spectral, 11)"
   ]
  },
  {
   "cell_type": "code",
   "execution_count": null,
   "metadata": {
    "id": "hoErMROJ0sDr"
   },
   "outputs": [],
   "source": [
    "def mapping(data,n):\n",
    "    map = np.zeros(n)\n",
    "    for i in range(len(data)):\n",
    "        for j in range(len(data[i])):\n",
    "            map[data[i][j]] = i\n",
    "    return map"
   ]
  },
  {
   "cell_type": "code",
   "execution_count": null,
   "metadata": {
    "colab": {
     "base_uri": "https://localhost:8080/"
    },
    "id": "RnVgDc8Q1UbD",
    "outputId": "c5583c73-d37d-40e4-fb69-f71508571a54"
   },
   "outputs": [
    {
     "data": {
      "text/plain": [
       "(array([ 0.,  1.,  2.,  3.,  4.,  5.,  6.,  7.,  8.,  9., 10.]),\n",
       " array([2575,    9,   78,    3,    6,    8,    3,    2,    1,    1,    1]))"
      ]
     },
     "execution_count": 121,
     "metadata": {},
     "output_type": "execute_result"
    }
   ],
   "source": [
    "agg_cluster = mapping(clusters, len(train_spectral))\n",
    "np.unique(agg_cluster, return_counts = True)"
   ]
  },
  {
   "cell_type": "markdown",
   "metadata": {
    "id": "bOMtXon16vWh"
   },
   "source": [
    "#### Evaluation"
   ]
  },
  {
   "cell_type": "code",
   "execution_count": null,
   "metadata": {
    "colab": {
     "base_uri": "https://localhost:8080/",
     "height": 394
    },
    "id": "Ycmv00Ti1zGQ",
    "outputId": "a7fc064b-0a89-4312-fdb6-30fdada72c93"
   },
   "outputs": [
    {
     "data": {
      "text/html": [
       "\n",
       "  <div id=\"df-e49df4c0-a206-4d15-8b27-d155020a1184\">\n",
       "    <div class=\"colab-df-container\">\n",
       "      <div>\n",
       "<style scoped>\n",
       "    .dataframe tbody tr th:only-of-type {\n",
       "        vertical-align: middle;\n",
       "    }\n",
       "\n",
       "    .dataframe tbody tr th {\n",
       "        vertical-align: top;\n",
       "    }\n",
       "\n",
       "    .dataframe thead th {\n",
       "        text-align: right;\n",
       "    }\n",
       "</style>\n",
       "<table border=\"1\" class=\"dataframe\">\n",
       "  <thead>\n",
       "    <tr style=\"text-align: right;\">\n",
       "      <th></th>\n",
       "      <th>0</th>\n",
       "      <th>1</th>\n",
       "      <th>2</th>\n",
       "      <th>3</th>\n",
       "      <th>4</th>\n",
       "      <th>5</th>\n",
       "      <th>6</th>\n",
       "      <th>7</th>\n",
       "      <th>8</th>\n",
       "      <th>9</th>\n",
       "      <th>10</th>\n",
       "    </tr>\n",
       "  </thead>\n",
       "  <tbody>\n",
       "    <tr>\n",
       "      <th>0</th>\n",
       "      <td>0</td>\n",
       "      <td>9</td>\n",
       "      <td>605</td>\n",
       "      <td>4</td>\n",
       "      <td>1922</td>\n",
       "      <td>1</td>\n",
       "      <td>9</td>\n",
       "      <td>13</td>\n",
       "      <td>8</td>\n",
       "      <td>2</td>\n",
       "      <td>2</td>\n",
       "    </tr>\n",
       "    <tr>\n",
       "      <th>1</th>\n",
       "      <td>0</td>\n",
       "      <td>0</td>\n",
       "      <td>0</td>\n",
       "      <td>0</td>\n",
       "      <td>9</td>\n",
       "      <td>0</td>\n",
       "      <td>0</td>\n",
       "      <td>0</td>\n",
       "      <td>0</td>\n",
       "      <td>0</td>\n",
       "      <td>0</td>\n",
       "    </tr>\n",
       "    <tr>\n",
       "      <th>2</th>\n",
       "      <td>0</td>\n",
       "      <td>0</td>\n",
       "      <td>0</td>\n",
       "      <td>0</td>\n",
       "      <td>78</td>\n",
       "      <td>0</td>\n",
       "      <td>0</td>\n",
       "      <td>0</td>\n",
       "      <td>0</td>\n",
       "      <td>0</td>\n",
       "      <td>0</td>\n",
       "    </tr>\n",
       "    <tr>\n",
       "      <th>3</th>\n",
       "      <td>2</td>\n",
       "      <td>0</td>\n",
       "      <td>0</td>\n",
       "      <td>0</td>\n",
       "      <td>1</td>\n",
       "      <td>0</td>\n",
       "      <td>0</td>\n",
       "      <td>0</td>\n",
       "      <td>0</td>\n",
       "      <td>0</td>\n",
       "      <td>0</td>\n",
       "    </tr>\n",
       "    <tr>\n",
       "      <th>4</th>\n",
       "      <td>0</td>\n",
       "      <td>0</td>\n",
       "      <td>0</td>\n",
       "      <td>0</td>\n",
       "      <td>6</td>\n",
       "      <td>0</td>\n",
       "      <td>0</td>\n",
       "      <td>0</td>\n",
       "      <td>0</td>\n",
       "      <td>0</td>\n",
       "      <td>0</td>\n",
       "    </tr>\n",
       "    <tr>\n",
       "      <th>5</th>\n",
       "      <td>0</td>\n",
       "      <td>0</td>\n",
       "      <td>0</td>\n",
       "      <td>0</td>\n",
       "      <td>8</td>\n",
       "      <td>0</td>\n",
       "      <td>0</td>\n",
       "      <td>0</td>\n",
       "      <td>0</td>\n",
       "      <td>0</td>\n",
       "      <td>0</td>\n",
       "    </tr>\n",
       "    <tr>\n",
       "      <th>6</th>\n",
       "      <td>0</td>\n",
       "      <td>0</td>\n",
       "      <td>0</td>\n",
       "      <td>0</td>\n",
       "      <td>3</td>\n",
       "      <td>0</td>\n",
       "      <td>0</td>\n",
       "      <td>0</td>\n",
       "      <td>0</td>\n",
       "      <td>0</td>\n",
       "      <td>0</td>\n",
       "    </tr>\n",
       "    <tr>\n",
       "      <th>7</th>\n",
       "      <td>0</td>\n",
       "      <td>0</td>\n",
       "      <td>0</td>\n",
       "      <td>0</td>\n",
       "      <td>2</td>\n",
       "      <td>0</td>\n",
       "      <td>0</td>\n",
       "      <td>0</td>\n",
       "      <td>0</td>\n",
       "      <td>0</td>\n",
       "      <td>0</td>\n",
       "    </tr>\n",
       "    <tr>\n",
       "      <th>8</th>\n",
       "      <td>0</td>\n",
       "      <td>0</td>\n",
       "      <td>0</td>\n",
       "      <td>0</td>\n",
       "      <td>1</td>\n",
       "      <td>0</td>\n",
       "      <td>0</td>\n",
       "      <td>0</td>\n",
       "      <td>0</td>\n",
       "      <td>0</td>\n",
       "      <td>0</td>\n",
       "    </tr>\n",
       "    <tr>\n",
       "      <th>9</th>\n",
       "      <td>0</td>\n",
       "      <td>0</td>\n",
       "      <td>0</td>\n",
       "      <td>0</td>\n",
       "      <td>1</td>\n",
       "      <td>0</td>\n",
       "      <td>0</td>\n",
       "      <td>0</td>\n",
       "      <td>0</td>\n",
       "      <td>0</td>\n",
       "      <td>0</td>\n",
       "    </tr>\n",
       "    <tr>\n",
       "      <th>10</th>\n",
       "      <td>0</td>\n",
       "      <td>0</td>\n",
       "      <td>0</td>\n",
       "      <td>0</td>\n",
       "      <td>1</td>\n",
       "      <td>0</td>\n",
       "      <td>0</td>\n",
       "      <td>0</td>\n",
       "      <td>0</td>\n",
       "      <td>0</td>\n",
       "      <td>0</td>\n",
       "    </tr>\n",
       "  </tbody>\n",
       "</table>\n",
       "</div>\n",
       "      <button class=\"colab-df-convert\" onclick=\"convertToInteractive('df-e49df4c0-a206-4d15-8b27-d155020a1184')\"\n",
       "              title=\"Convert this dataframe to an interactive table.\"\n",
       "              style=\"display:none;\">\n",
       "        \n",
       "  <svg xmlns=\"http://www.w3.org/2000/svg\" height=\"24px\"viewBox=\"0 0 24 24\"\n",
       "       width=\"24px\">\n",
       "    <path d=\"M0 0h24v24H0V0z\" fill=\"none\"/>\n",
       "    <path d=\"M18.56 5.44l.94 2.06.94-2.06 2.06-.94-2.06-.94-.94-2.06-.94 2.06-2.06.94zm-11 1L8.5 8.5l.94-2.06 2.06-.94-2.06-.94L8.5 2.5l-.94 2.06-2.06.94zm10 10l.94 2.06.94-2.06 2.06-.94-2.06-.94-.94-2.06-.94 2.06-2.06.94z\"/><path d=\"M17.41 7.96l-1.37-1.37c-.4-.4-.92-.59-1.43-.59-.52 0-1.04.2-1.43.59L10.3 9.45l-7.72 7.72c-.78.78-.78 2.05 0 2.83L4 21.41c.39.39.9.59 1.41.59.51 0 1.02-.2 1.41-.59l7.78-7.78 2.81-2.81c.8-.78.8-2.07 0-2.86zM5.41 20L4 18.59l7.72-7.72 1.47 1.35L5.41 20z\"/>\n",
       "  </svg>\n",
       "      </button>\n",
       "      \n",
       "  <style>\n",
       "    .colab-df-container {\n",
       "      display:flex;\n",
       "      flex-wrap:wrap;\n",
       "      gap: 12px;\n",
       "    }\n",
       "\n",
       "    .colab-df-convert {\n",
       "      background-color: #E8F0FE;\n",
       "      border: none;\n",
       "      border-radius: 50%;\n",
       "      cursor: pointer;\n",
       "      display: none;\n",
       "      fill: #1967D2;\n",
       "      height: 32px;\n",
       "      padding: 0 0 0 0;\n",
       "      width: 32px;\n",
       "    }\n",
       "\n",
       "    .colab-df-convert:hover {\n",
       "      background-color: #E2EBFA;\n",
       "      box-shadow: 0px 1px 2px rgba(60, 64, 67, 0.3), 0px 1px 3px 1px rgba(60, 64, 67, 0.15);\n",
       "      fill: #174EA6;\n",
       "    }\n",
       "\n",
       "    [theme=dark] .colab-df-convert {\n",
       "      background-color: #3B4455;\n",
       "      fill: #D2E3FC;\n",
       "    }\n",
       "\n",
       "    [theme=dark] .colab-df-convert:hover {\n",
       "      background-color: #434B5C;\n",
       "      box-shadow: 0px 1px 3px 1px rgba(0, 0, 0, 0.15);\n",
       "      filter: drop-shadow(0px 1px 2px rgba(0, 0, 0, 0.3));\n",
       "      fill: #FFFFFF;\n",
       "    }\n",
       "  </style>\n",
       "\n",
       "      <script>\n",
       "        const buttonEl =\n",
       "          document.querySelector('#df-e49df4c0-a206-4d15-8b27-d155020a1184 button.colab-df-convert');\n",
       "        buttonEl.style.display =\n",
       "          google.colab.kernel.accessAllowed ? 'block' : 'none';\n",
       "\n",
       "        async function convertToInteractive(key) {\n",
       "          const element = document.querySelector('#df-e49df4c0-a206-4d15-8b27-d155020a1184');\n",
       "          const dataTable =\n",
       "            await google.colab.kernel.invokeFunction('convertToInteractive',\n",
       "                                                     [key], {});\n",
       "          if (!dataTable) return;\n",
       "\n",
       "          const docLinkHtml = 'Like what you see? Visit the ' +\n",
       "            '<a target=\"_blank\" href=https://colab.research.google.com/notebooks/data_table.ipynb>data table notebook</a>'\n",
       "            + ' to learn more about interactive tables.';\n",
       "          element.innerHTML = '';\n",
       "          dataTable['output_type'] = 'display_data';\n",
       "          await google.colab.output.renderOutput(dataTable, element);\n",
       "          const docLink = document.createElement('div');\n",
       "          docLink.innerHTML = docLinkHtml;\n",
       "          element.appendChild(docLink);\n",
       "        }\n",
       "      </script>\n",
       "    </div>\n",
       "  </div>\n",
       "  "
      ],
      "text/plain": [
       "    0   1    2   3     4   5   6   7   8   9   10\n",
       "0    0   9  605   4  1922   1   9  13   8   2   2\n",
       "1    0   0    0   0     9   0   0   0   0   0   0\n",
       "2    0   0    0   0    78   0   0   0   0   0   0\n",
       "3    2   0    0   0     1   0   0   0   0   0   0\n",
       "4    0   0    0   0     6   0   0   0   0   0   0\n",
       "5    0   0    0   0     8   0   0   0   0   0   0\n",
       "6    0   0    0   0     3   0   0   0   0   0   0\n",
       "7    0   0    0   0     2   0   0   0   0   0   0\n",
       "8    0   0    0   0     1   0   0   0   0   0   0\n",
       "9    0   0    0   0     1   0   0   0   0   0   0\n",
       "10   0   0    0   0     1   0   0   0   0   0   0"
      ]
     },
     "execution_count": 127,
     "metadata": {},
     "output_type": "execute_result"
    }
   ],
   "source": [
    "contg_matrix_agg = contingency_matrix(labels_true = train_spectral_labels, labels_pred = agg_cluster).T\n",
    "pd.DataFrame(contg_matrix_agg)"
   ]
  },
  {
   "cell_type": "code",
   "execution_count": null,
   "metadata": {
    "id": "9Xe52_4a1qW2"
   },
   "outputs": [],
   "source": [
    "entropy_agg = conditional_entropy(contg_matrix_agg)\n",
    "TP_agg, FP_agg, FN_agg, TN_agg = confusion_mat(contg_matrix_agg)\n",
    "p_agg = precision(contg_matrix_agg)\n",
    "r_agg = recall(contg_matrix_agg)\n",
    "f1_agg = f1_score(p_agg, r_agg, 11)"
   ]
  },
  {
   "cell_type": "code",
   "execution_count": null,
   "metadata": {
    "colab": {
     "base_uri": "https://localhost:8080/"
    },
    "id": "B0FmGNNN2s28",
    "outputId": "229c1ba1-4cb1-4a3d-f790-a1fe84813f3c"
   },
   "outputs": [
    {
     "name": "stdout",
     "output_type": "stream",
     "text": [
      "Conditional entropy = 0.9232042032831927\n",
      "Precision = [0.7464077669902912, 1.0, 1.0, 0.6666666666666666, 1.0, 1.0, 1.0, 1.0, 1.0, 1.0, 1.0]\n",
      "Recall = [0.9458661417322834, 0.004390243902439025, 0.038385826771653545, 0.0009813542688910696, 0.002952755905511811, 0.00392156862745098, 0.0014763779527559055, 0.0009813542688910696, 0.00012301636117603641, 0.00012301636117603641, 0.00012301636117603641]\n",
      "F1 score = 0.08530598749559327\n"
     ]
    }
   ],
   "source": [
    "print(\"Conditional entropy = \" + str(entropy_agg))\n",
    "print(\"Precision = \" + str(p_agg))\n",
    "print(\"Recall = \" + str(r_agg))\n",
    "print(\"F1 score = \" + str(f1_agg))"
   ]
  },
  {
   "cell_type": "markdown",
   "metadata": {
    "id": "wJ7qFFxH602O"
   },
   "source": [
    "#### Describing agglomerative clustering"
   ]
  },
  {
   "cell_type": "markdown",
   "metadata": {
    "id": "0_n_lCB55GEH"
   },
   "source": [
    "Agglomerative clustering is a hierarchical clustering algorithm that begins with each data point as its own cluster and iteratively merges the two closest clusters until a stopping criterion is met. In this algorithm, the distance between clusters is defined as the distance between their closest points (i.e., single linkage), their furthest points (i.e., complete linkage), or the average distance between their points (i.e., average linkage).\n",
    "\n",
    "At each iteration, the two closest clusters are merged into a single cluster, and the distance matrix between clusters is updated accordingly. This process continues until all points are in a single cluster or until a predefined number of clusters is reached.\n",
    "\n",
    "One advantage of agglomerative clustering is that it does not require a predefined number of clusters, as the algorithm determines the number of clusters based on the merging process. Additionally, the hierarchical structure of the resulting clusters can provide insight into the relationships between data points."
   ]
  },
  {
   "cell_type": "markdown",
   "metadata": {
    "id": "6EB6lru369Hc"
   },
   "source": [
    "#### Disadvantages of agglomeartive clustering"
   ]
  },
  {
   "cell_type": "markdown",
   "metadata": {
    "id": "UewPEeOK5HWi"
   },
   "source": [
    "One disadvantage of agglomerative clustering is that it can be computationally expensive for large datasets. Since the algorithm requires the computation of pairwise distances between all data points at each iteration, the time complexity can be O(n^3) or higher for large datasets, where n is the number of data points.\n",
    "\n",
    "Another potential disadvantage of agglomerative clustering is that it is sensitive to the choice of linkage criterion. Different linkage criteria can result in different cluster structures, and the choice of linkage criterion may depend on the nature of the data and the goals of the analysis. Moreover, agglomerative clustering is a greedy algorithm and once a decision is made to merge two clusters, it cannot be undone, which can lead to suboptimal clustering in some cases.\n",
    "\n",
    "Finally, agglomerative clustering can also suffer from the \"chaining\" effect, where small clusters may be merged into larger clusters too quickly, resulting in suboptimal clusters. This effect can be mitigated by using a stopping criterion that takes into account the size and density of the clusters, This is what happened with Neptune and Normal Classes\n",
    "\n",
    "\n",
    "\n"
   ]
  },
  {
   "cell_type": "code",
   "execution_count": null,
   "metadata": {
    "id": "URrINWjykvIA"
   },
   "outputs": [],
   "source": []
  }
 ],
 "metadata": {
  "colab": {
   "collapsed_sections": [
    "2ErWbG005Q9w",
    "GqHyOHTj5jaV",
    "F26XykLK5pBh",
    "CxeefpyN5wb_",
    "O315p2GJ52OR",
    "L42Rss9xH-P7",
    "X63Y_bbx6NlI",
    "Yhwpfdho6ZFj",
    "tno4asD96iRH",
    "yVpg5iMl6nj9",
    "bOMtXon16vWh",
    "wJ7qFFxH602O",
    "6EB6lru369Hc"
   ],
   "provenance": []
  },
  "kernelspec": {
   "display_name": "Python 3",
   "language": "python",
   "name": "python3"
  },
  "language_info": {
   "codemirror_mode": {
    "name": "ipython",
    "version": 3
   },
   "file_extension": ".py",
   "mimetype": "text/x-python",
   "name": "python",
   "nbconvert_exporter": "python",
   "pygments_lexer": "ipython3",
   "version": "3.8.8"
  }
 },
 "nbformat": 4,
 "nbformat_minor": 1
}
